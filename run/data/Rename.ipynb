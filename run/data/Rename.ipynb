{
 "cells": [
  {
   "cell_type": "code",
   "execution_count": null,
   "source": [
    "import os\r\n",
    "import pandas as pd\r\n",
    "import shutil"
   ],
   "outputs": [],
   "metadata": {}
  },
  {
   "cell_type": "code",
   "execution_count": 22,
   "source": [
    "metadata = pd.read_csv('/Fault Runs/summary_results_algorithm_Norfolk_AMY.csv')\r\n",
    "rawfolder = os.getcwd() + '/Fault Runs'\r\n",
    "newfolder = os.getcwd() + '/Norfolk/Norfolk'\r\n",
    "print(metadata)\r\n",
    "os.listdir()"
   ],
   "outputs": [
    {
     "output_type": "stream",
     "name": "stdout",
     "text": [
      "                                     id      weather_file  \\\n",
      "0  3f9c38dd-02c2-47bf-945c-ae401017ccae  Knoxville_TN_AMY   \n",
      "1  e0baeb44-227c-4374-9c14-6693f3f6c9b1  Knoxville_TN_AMY   \n",
      "2  912040e6-d307-410e-8321-e71e49c0c615  Knoxville_TN_AMY   \n",
      "3  11ce6ed7-03e1-426d-adbb-04a8011d767f  Knoxville_TN_AMY   \n",
      "4  655d9c80-14e6-4f80-a6f1-711b2ff0f9e5  Knoxville_TN_AMY   \n",
      "5  a5566c06-690a-47dc-8a6e-9f695eae8ea0  Knoxville_TN_AMY   \n",
      "6  843c0271-ddb1-4cf3-972c-b9f0524d4fb8  Knoxville_TN_AMY   \n",
      "7  e1598de2-3062-4f40-b343-05defbd8c32c  Knoxville_TN_AMY   \n",
      "8  6961fa68-66ce-42fd-9161-0fcb37bfa0bd  Knoxville_TN_AMY   \n",
      "\n",
      "                                    fault_type  fault_intensity  \\\n",
      "0     lighting_setback_error_early_termination             3.00   \n",
      "1                       excessive_infiltration             0.40   \n",
      "2                     supply_air_duct_leakages             0.30   \n",
      "3             hvac_setback_error_delayed_onset             3.00   \n",
      "4                              thermostat_bias             3.00   \n",
      "5              improperly_sized_equipment_wshp             1.50   \n",
      "6                 condenser_fouling_in_chiller             0.40   \n",
      "7  nonstandard_refrigerant_charging_in_chiller             1.40   \n",
      "8        presence_of_noncondensable_in_chiller             0.04   \n",
      "\n",
      "                                 sensorfilename  electricity_ip        eui  \\\n",
      "0  lighting_setback_error_early_termination_3.0     50667.91345  52.490301   \n",
      "1                    excessive_infiltration_0.4     51325.60982  52.968438   \n",
      "2                  supply_air_duct_leakages_0.3     52098.51005  53.535218   \n",
      "3          hvac_setback_error_delayed_onset_3.0     53019.81187  54.212131   \n",
      "4                           thermostat_bias_3.0     49843.37448  51.893973   \n",
      "5           improperly_sized_equipment_wshp_1.5     50442.30443  52.474184   \n",
      "6                 condenser_fouling_chiller_0.4     49842.69447  53.183331   \n",
      "7              nonstandard_charging_chiller_1.4     49842.57836  56.909038   \n",
      "8       presence_of_noncondensable_chiller_0.04     49737.46135  51.942324   \n",
      "\n",
      "   natural_gas_ip  net_site_energy  unmet_hours_during_occupied_cooling  \\\n",
      "0       12.326634      185212.9435                                393.5   \n",
      "1       11.765413      186900.0580                                393.5   \n",
      "2       11.128252      188899.9521                                393.5   \n",
      "3       10.377906      191288.4512                                393.5   \n",
      "4       13.040346      183108.7895                                393.5   \n",
      "5       13.040068      185156.0745                                393.5   \n",
      "6       17.585145      187658.3117                                393.5   \n",
      "7       30.738201      200804.5351                                393.5   \n",
      "8       13.567793      183279.3966                                393.5   \n",
      "\n",
      "   unmet_hours_during_occupied_heating  \n",
      "0                               443.50  \n",
      "1                               443.50  \n",
      "2                               443.75  \n",
      "3                               443.50  \n",
      "4                               443.50  \n",
      "5                               443.50  \n",
      "6                               443.50  \n",
      "7                               443.50  \n",
      "8                               443.75  \n"
     ]
    },
    {
     "output_type": "execute_result",
     "data": {
      "text/plain": [
       "['.ipynb_checkpoints',\n",
       " 'Fault Runs',\n",
       " 'processeddata',\n",
       " 'Rename.ipynb',\n",
       " 'summary_results_algorithm_Knoxville_TN_AMY.csv']"
      ]
     },
     "metadata": {},
     "execution_count": 22
    }
   ],
   "metadata": {}
  },
  {
   "cell_type": "code",
   "execution_count": 34,
   "source": [
    "for root, dir, files in os.walk(rawfolder):\r\n",
    "    for datafile in files:\r\n",
    "        \r\n",
    "        print('Looking for ' + datafile)\r\n",
    "        rawfile = os.path.join(os.path.abspath(root), datafile)\r\n",
    "\r\n",
    "        base, ext = os.path.splitext(datafile)\r\n",
    "\r\n",
    "        # map name in metadata\r\n",
    "        datafile_id = metadata[metadata.sensorfilename==base]['id'].values\r\n",
    "\r\n",
    "        newfile = os.path.join(newfolder, datafile_id[0]+'_sensor.csv')\r\n",
    "        print('Copying ' + rawfile + ' to ' + newfile)\r\n",
    "\r\n",
    "        shutil.copy(rawfile, newfile)\r\n",
    "\r\n",
    "        "
   ],
   "outputs": [
    {
     "output_type": "stream",
     "name": "stdout",
     "text": [
      "Looking for condenser_fouling_chiller_0.4.csv\n",
      "Copying c:\\Users\\jxiong\\Box Sync\\Workspace\\ESTCP\\Task 4\\lz workflow\\Fault Runs\\condenser_fouling_chiller_0.4.csv to c:\\Users\\jxiong\\Box Sync\\Workspace\\ESTCP\\Task 4\\lz workflow/processeddata\\843c0271-ddb1-4cf3-972c-b9f0524d4fb8_sensor.csv\n",
      "Looking for excessive_infiltration_0.4.csv\n",
      "Copying c:\\Users\\jxiong\\Box Sync\\Workspace\\ESTCP\\Task 4\\lz workflow\\Fault Runs\\excessive_infiltration_0.4.csv to c:\\Users\\jxiong\\Box Sync\\Workspace\\ESTCP\\Task 4\\lz workflow/processeddata\\e0baeb44-227c-4374-9c14-6693f3f6c9b1_sensor.csv\n",
      "Looking for hvac_setback_error_delayed_onset_3.0.csv\n",
      "Copying c:\\Users\\jxiong\\Box Sync\\Workspace\\ESTCP\\Task 4\\lz workflow\\Fault Runs\\hvac_setback_error_delayed_onset_3.0.csv to c:\\Users\\jxiong\\Box Sync\\Workspace\\ESTCP\\Task 4\\lz workflow/processeddata\\11ce6ed7-03e1-426d-adbb-04a8011d767f_sensor.csv\n",
      "Looking for improperly_sized_equipment_wshp_1.5.csv\n",
      "Copying c:\\Users\\jxiong\\Box Sync\\Workspace\\ESTCP\\Task 4\\lz workflow\\Fault Runs\\improperly_sized_equipment_wshp_1.5.csv to c:\\Users\\jxiong\\Box Sync\\Workspace\\ESTCP\\Task 4\\lz workflow/processeddata\\a5566c06-690a-47dc-8a6e-9f695eae8ea0_sensor.csv\n",
      "Looking for lighting_setback_error_early_termination_3.0.csv\n",
      "Copying c:\\Users\\jxiong\\Box Sync\\Workspace\\ESTCP\\Task 4\\lz workflow\\Fault Runs\\lighting_setback_error_early_termination_3.0.csv to c:\\Users\\jxiong\\Box Sync\\Workspace\\ESTCP\\Task 4\\lz workflow/processeddata\\3f9c38dd-02c2-47bf-945c-ae401017ccae_sensor.csv\n",
      "Looking for nonstandard_charging_chiller_1.4.csv\n",
      "Copying c:\\Users\\jxiong\\Box Sync\\Workspace\\ESTCP\\Task 4\\lz workflow\\Fault Runs\\nonstandard_charging_chiller_1.4.csv to c:\\Users\\jxiong\\Box Sync\\Workspace\\ESTCP\\Task 4\\lz workflow/processeddata\\e1598de2-3062-4f40-b343-05defbd8c32c_sensor.csv\n",
      "Looking for presence_of_noncondensable_chiller_0.04.csv\n",
      "Copying c:\\Users\\jxiong\\Box Sync\\Workspace\\ESTCP\\Task 4\\lz workflow\\Fault Runs\\presence_of_noncondensable_chiller_0.04.csv to c:\\Users\\jxiong\\Box Sync\\Workspace\\ESTCP\\Task 4\\lz workflow/processeddata\\6961fa68-66ce-42fd-9161-0fcb37bfa0bd_sensor.csv\n",
      "Looking for supply_air_duct_leakages_0.3.csv\n",
      "Copying c:\\Users\\jxiong\\Box Sync\\Workspace\\ESTCP\\Task 4\\lz workflow\\Fault Runs\\supply_air_duct_leakages_0.3.csv to c:\\Users\\jxiong\\Box Sync\\Workspace\\ESTCP\\Task 4\\lz workflow/processeddata\\912040e6-d307-410e-8321-e71e49c0c615_sensor.csv\n",
      "Looking for thermostat_bias_3.0.csv\n",
      "Copying c:\\Users\\jxiong\\Box Sync\\Workspace\\ESTCP\\Task 4\\lz workflow\\Fault Runs\\thermostat_bias_3.0.csv to c:\\Users\\jxiong\\Box Sync\\Workspace\\ESTCP\\Task 4\\lz workflow/processeddata\\655d9c80-14e6-4f80-a6f1-711b2ff0f9e5_sensor.csv\n"
     ]
    }
   ],
   "metadata": {}
  },
  {
   "cell_type": "code",
   "execution_count": null,
   "source": [],
   "outputs": [],
   "metadata": {}
  }
 ],
 "metadata": {
  "kernelspec": {
   "name": "python3",
   "display_name": "Python 3.7.4 64-bit ('base': conda)"
  },
  "language_info": {
   "codemirror_mode": {
    "name": "ipython",
    "version": 3
   },
   "file_extension": ".py",
   "mimetype": "text/x-python",
   "name": "python",
   "nbconvert_exporter": "python",
   "pygments_lexer": "ipython3",
   "version": "3.7.4"
  },
  "interpreter": {
   "hash": "22d0451c425ea3e2ce0d674915a8b6b0e3c5c00b771c6523ebafb647fe2c9fe3"
  }
 },
 "nbformat": 4,
 "nbformat_minor": 2
}