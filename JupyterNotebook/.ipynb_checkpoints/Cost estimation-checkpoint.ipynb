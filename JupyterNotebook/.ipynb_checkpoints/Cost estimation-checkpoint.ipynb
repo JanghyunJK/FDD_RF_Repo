{
 "cells": [
  {
   "cell_type": "code",
   "execution_count": null,
   "id": "d67f63cf",
   "metadata": {},
   "outputs": [],
   "source": [
    "import pandas as pd\n",
    "import json"
   ]
  },
  {
   "cell_type": "code",
   "execution_count": null,
   "id": "2e013ede",
   "metadata": {},
   "outputs": [],
   "source": [
    "# setting directories\n",
    "dir_code = \"../run\"\n",
    "dir_data = dir_code + \"/data\"\n",
    "dir_result = dir_code + \"./results\"\n",
    "\n",
    "# setting configs json file path\n",
    "file_configs = dir_code + \"/configs.json\"\n",
    "\n",
    "# reading configs json file\n",
    "print(\"reading configuration json file from = {}\".format(file_configs))\n",
    "with open(file_configs, \"r\") as read_file:\n",
    "    configs = json.load(read_file)\n",
    "\n",
    "configs['dir_code'] = dir_code\n",
    "configs['dir_data'] = dir_data\n",
    "configs['dir_result'] = dir_result\n",
    "    \n",
    "configs"
   ]
  },
  {
   "cell_type": "code",
   "execution_count": null,
   "id": "3e3e7979",
   "metadata": {},
   "outputs": [],
   "source": [
    "df_result = pd.read_csv(configs[\"dir_code\"] + \"/results\" + \"/{}_{}.csv\".format(configs[\"weather\"], configs[\"train_test_apply\"]))\n",
    "df_result"
   ]
  },
  {
   "cell_type": "code",
   "execution_count": null,
   "id": "b271f720",
   "metadata": {},
   "outputs": [],
   "source": []
  }
 ],
 "metadata": {
  "kernelspec": {
   "display_name": "Python 3",
   "language": "python",
   "name": "python3"
  },
  "language_info": {
   "codemirror_mode": {
    "name": "ipython",
    "version": 3
   },
   "file_extension": ".py",
   "mimetype": "text/x-python",
   "name": "python",
   "nbconvert_exporter": "python",
   "pygments_lexer": "ipython3",
   "version": "3.8.8"
  }
 },
 "nbformat": 4,
 "nbformat_minor": 5
}
