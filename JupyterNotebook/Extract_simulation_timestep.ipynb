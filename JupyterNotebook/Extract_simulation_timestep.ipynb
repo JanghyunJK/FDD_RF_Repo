{
 "cells": [
  {
   "cell_type": "code",
   "execution_count": null,
   "id": "e19bbd7e",
   "metadata": {},
   "outputs": [],
   "source": [
    "import pandas as pd"
   ]
  },
  {
   "cell_type": "code",
   "execution_count": null,
   "id": "dc4385c4",
   "metadata": {},
   "outputs": [],
   "source": [
    "df = pd.read_csv(\"C:/Users/jkim4/Documents/GitHub/FDD_RF_Repo/run/data/Norfolk/baseline.csv\")\n",
    "df"
   ]
  },
  {
   "cell_type": "code",
   "execution_count": null,
   "id": "b3837b6d",
   "metadata": {},
   "outputs": [],
   "source": [
    "def get_timeinterval(timestamp):\n",
    "    \n",
    "    #converting timestamp to pandas datetime\n",
    "    timestamp = pd.to_datetime(timestamp)\n",
    "    \n",
    "    # inferring timestep (frequency) from the dataframe\n",
    "    dt = timestamp.diff().value_counts().idxmax() # in pandas timedelta\n",
    "    dt = int(dt.value/(10**9)/60) # in minutes\n",
    "    print(\"timestep of the dataframe = {} min\".format(dt))\n",
    "    \n",
    "    return dt"
   ]
  },
  {
   "cell_type": "code",
   "execution_count": null,
   "id": "bfbc3eae",
   "metadata": {},
   "outputs": [],
   "source": [
    "get_timeinterval(df.iloc[:,0])"
   ]
  },
  {
   "cell_type": "code",
   "execution_count": null,
   "id": "30408093",
   "metadata": {},
   "outputs": [],
   "source": []
  },
  {
   "cell_type": "code",
   "execution_count": null,
   "id": "17b0553d",
   "metadata": {},
   "outputs": [],
   "source": []
  }
 ],
 "metadata": {
  "kernelspec": {
   "display_name": "Python 3",
   "language": "python",
   "name": "python3"
  },
  "language_info": {
   "codemirror_mode": {
    "name": "ipython",
    "version": 3
   },
   "file_extension": ".py",
   "mimetype": "text/x-python",
   "name": "python",
   "nbconvert_exporter": "python",
   "pygments_lexer": "ipython3",
   "version": "3.8.8"
  }
 },
 "nbformat": 4,
 "nbformat_minor": 5
}
