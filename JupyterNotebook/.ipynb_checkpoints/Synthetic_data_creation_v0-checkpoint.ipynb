{
 "cells": [
  {
   "cell_type": "code",
   "execution_count": null,
   "id": "f997e678",
   "metadata": {},
   "outputs": [],
   "source": [
    "import pandas as pd"
   ]
  },
  {
   "cell_type": "code",
   "execution_count": null,
   "id": "7b3e261e",
   "metadata": {},
   "outputs": [],
   "source": [
    "folder = \"../run/data/Norfolk\"\n",
    "dir_save = \"../run/data/stream_data\""
   ]
  },
  {
   "cell_type": "code",
   "execution_count": null,
   "id": "3f2a2593",
   "metadata": {},
   "outputs": [],
   "source": [
    "df_meta = pd.read_csv(folder + \"/Norfolk_metadata.csv\")\n",
    "df_meta"
   ]
  },
  {
   "cell_type": "code",
   "execution_count": null,
   "id": "f434ab20",
   "metadata": {},
   "outputs": [],
   "source": [
    "# check list of fault type and intensities\n",
    "df_meta.sensor_filename.unique()"
   ]
  },
  {
   "cell_type": "code",
   "execution_count": null,
   "id": "55da8066",
   "metadata": {},
   "outputs": [],
   "source": [
    "# create empty scenario json\n",
    "json_scenario = {}"
   ]
  },
  {
   "cell_type": "code",
   "execution_count": null,
   "id": "aab0b777",
   "metadata": {},
   "outputs": [],
   "source": [
    "# add scenario 1\n",
    "json_scenario['1'] = {\n",
    "    \"name\": \"baseline\",\n",
    "    \"date_start\": \"2006-05-01\",\n",
    "    \"date_end\": \"2006-05-31\",\n",
    "    \"filename\":False,\n",
    "}\n",
    "\n",
    "# add scenario 2\n",
    "json_scenario['2'] = {\n",
    "    \"name\": \"improperly_sized_equipment_wshp_1.5\",\n",
    "    \"date_start\": \"2006-06-01\",\n",
    "    \"date_end\": \"2006-07-31\",\n",
    "    \"filename\":True,\n",
    "}\n",
    "\n",
    "# add scenario 3\n",
    "json_scenario['3'] = {\n",
    "    \"name\": \"baseline\",\n",
    "    \"date_start\": \"2006-08-01\",\n",
    "    \"date_end\": \"2006-8-31\",\n",
    "    \"filename\":False,\n",
    "}"
   ]
  },
  {
   "cell_type": "code",
   "execution_count": null,
   "id": "ffb48775",
   "metadata": {
    "scrolled": true
   },
   "outputs": [],
   "source": [
    "df_syn = pd.DataFrame([])\n",
    "filename_suffix = ''\n",
    "\n",
    "print(\"############################\")\n",
    "# loop through each scenario and stitch each scenario together\n",
    "for sce in json_scenario.keys():\n",
    "    \n",
    "    # define which fault was the focus on this testing\n",
    "    if json_scenario[sce]['filename'] == True:\n",
    "        filename_suffix = json_scenario[sce]['name']\n",
    "        \n",
    "    # output display\n",
    "    print(f\"scenario number = {sce}\")\n",
    "    sce_name = json_scenario[sce][\"name\"]\n",
    "    print(f\"scenario name = {sce_name}\")\n",
    "    \n",
    "    # read simulation file based on fault type specified in scenario json\n",
    "    df_temp = pd.read_csv(folder + f\"/{sce_name}.csv\", index_col = 0)\n",
    "    \n",
    "    # parse scenario name between fault type and fault intensity\n",
    "    if sce_name != \"baseline\":\n",
    "        sce_name = sce_name.rsplit(\"_\",1)[0]\n",
    "        print(f\"parsed scenario name = {sce_name}\")\n",
    "    \n",
    "    # add fault label\n",
    "    df_temp[\"label\"] = sce_name\n",
    "    \n",
    "    # check data size\n",
    "    print(f\"data shape = {df_temp.shape}\")\n",
    "    \n",
    "    # filter data based date range specified in scenario json\n",
    "    df_temp.index = pd.to_datetime(df_temp.index)\n",
    "    date_start = json_scenario[sce]['date_start']\n",
    "    date_end = json_scenario[sce]['date_end']\n",
    "    df_temp = df_temp[date_start:date_end]\n",
    "    \n",
    "    # concat each scenario into one dataframe\n",
    "    df_syn = pd.concat([df_syn, df_temp.reset_index()], ignore_index=True)\n",
    "    \n",
    "    print(\"############################\")\n",
    "    \n",
    "# save to file\n",
    "df_syn = df_syn.set_index(\"OS_time\")\n",
    "df_syn.to_csv(dir_save + \"/stream_data_preformatted_{}.csv\".format(filename_suffix))\n",
    "df_syn"
   ]
  },
  {
   "cell_type": "code",
   "execution_count": null,
   "id": "faf447c2",
   "metadata": {},
   "outputs": [],
   "source": []
  }
 ],
 "metadata": {
  "kernelspec": {
   "display_name": "Python 3",
   "language": "python",
   "name": "python3"
  },
  "language_info": {
   "codemirror_mode": {
    "name": "ipython",
    "version": 3
   },
   "file_extension": ".py",
   "mimetype": "text/x-python",
   "name": "python",
   "nbconvert_exporter": "python",
   "pygments_lexer": "ipython3",
   "version": "3.8.8"
  }
 },
 "nbformat": 4,
 "nbformat_minor": 5
}
