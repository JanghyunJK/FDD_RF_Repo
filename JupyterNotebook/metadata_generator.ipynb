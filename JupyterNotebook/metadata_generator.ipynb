{
 "cells": [
  {
   "cell_type": "code",
   "execution_count": null,
   "metadata": {},
   "outputs": [],
   "source": [
    "import os\n",
    "import pandas as pd"
   ]
  },
  {
   "cell_type": "code",
   "execution_count": null,
   "metadata": {},
   "outputs": [],
   "source": [
    "location = 'Norfolk'"
   ]
  },
  {
   "cell_type": "code",
   "execution_count": null,
   "metadata": {},
   "outputs": [],
   "source": [
    "file_list = os.listdir(os.getcwd()+f\"/../run/data/{location}/{location}\")\n",
    "meta_data_file = [x for x in file_list if '_metadata' in x][0]\n",
    "data_file_list = [x for x in file_list if '_metadata' not in x]\n",
    "print(meta_data_file)\n",
    "print(data_file_list)"
   ]
  },
  {
   "cell_type": "code",
   "execution_count": null,
   "metadata": {},
   "outputs": [],
   "source": [
    "file_list"
   ]
  },
  {
   "cell_type": "code",
   "execution_count": null,
   "metadata": {},
   "outputs": [],
   "source": []
  },
  {
   "cell_type": "code",
   "execution_count": null,
   "metadata": {},
   "outputs": [],
   "source": [
    "meta_data = pd.DataFrame([])\n",
    "\n",
    "for data_file in data_file_list:\n",
    "\n",
    "    sensor_filename = os.path.splitext(data_file)[0]\n",
    "    print(sensor_filename)\n",
    "\n",
    "    if '_' in sensor_filename:\n",
    "        if 'All_days' in sensor_filename:\n",
    "            fault_type = sensor_filename[0:-9]\n",
    "            fault_intensity = 'All_days'\n",
    "            print('1')\n",
    "        elif 'Weekdays_only' in sensor_filename:\n",
    "            fault_type = sensor_filename[0:-14]\n",
    "            fault_intensity = 'Weekdays_only'\n",
    "            print('2')\n",
    "        elif 'Weekend_only' in sensor_filename:\n",
    "            fault_type = sensor_filename[0:-13]\n",
    "            fault_intensity = 'Weekend_only'\n",
    "            print('3')\n",
    "        else:\n",
    "            fault_type, fault_intensity = sensor_filename.rsplit('_', 1)\n",
    "            print('4')\n",
    "    else:\n",
    "        fault_type = sensor_filename\n",
    "        fault_intensity = '0'\n",
    "        print('5')\n",
    "\n",
    "    meta = {'sensor_filename': [sensor_filename],\n",
    "            'fault_type': [fault_type],\n",
    "            'fault_intensity': [fault_intensity]}\n",
    "    meta_df = pd.DataFrame.from_dict(meta)\n",
    "    meta_data = pd.concat([meta_data, meta_df], axis = 0)\n",
    "    \n",
    "meta_data.reset_index(inplace=True)\n",
    "meta_data\n"
   ]
  },
  {
   "cell_type": "code",
   "execution_count": null,
   "metadata": {},
   "outputs": [],
   "source": [
    "meta_data.to_csv(f'Norfolk\\\\{meta_data_file}')"
   ]
  },
  {
   "cell_type": "code",
   "execution_count": null,
   "metadata": {},
   "outputs": [],
   "source": []
  }
 ],
 "metadata": {
  "interpreter": {
   "hash": "22d0451c425ea3e2ce0d674915a8b6b0e3c5c00b771c6523ebafb647fe2c9fe3"
  },
  "kernelspec": {
   "display_name": "Python 3",
   "language": "python",
   "name": "python3"
  },
  "language_info": {
   "codemirror_mode": {
    "name": "ipython",
    "version": 3
   },
   "file_extension": ".py",
   "mimetype": "text/x-python",
   "name": "python",
   "nbconvert_exporter": "python",
   "pygments_lexer": "ipython3",
   "version": "3.8.3"
  }
 },
 "nbformat": 4,
 "nbformat_minor": 2
}
