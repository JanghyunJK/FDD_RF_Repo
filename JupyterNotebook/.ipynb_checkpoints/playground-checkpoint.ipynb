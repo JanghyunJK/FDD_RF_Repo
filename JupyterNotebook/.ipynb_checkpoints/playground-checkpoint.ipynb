{
 "cells": [
  {
   "cell_type": "code",
   "execution_count": null,
   "id": "51c6f076",
   "metadata": {},
   "outputs": [],
   "source": [
    "import pandas as pd\n",
    "import random\n",
    "import time\n",
    "from datetime import datetime\n",
    "import plotly.express as px\n",
    "import plotly.graph_objects as go\n",
    "from plotly.subplots import make_subplots\n",
    "from plotly.validators.scatter.marker import SymbolValidator"
   ]
  },
  {
   "cell_type": "code",
   "execution_count": null,
   "id": "5eb95f7a",
   "metadata": {},
   "outputs": [],
   "source": [
    "df = pd.DataFrame()"
   ]
  },
  {
   "cell_type": "code",
   "execution_count": null,
   "id": "0876671f",
   "metadata": {},
   "outputs": [],
   "source": [
    "list_temp = []\n",
    "for num in range(1,365*2+1):\n",
    "    entry = random.randrange(0, 100, 1)\n",
    "    list_temp.append(entry)\n",
    "    \n",
    "df = pd.DataFrame(list_temp)\n",
    "df.columns = ['reading']\n",
    "df"
   ]
  },
  {
   "cell_type": "code",
   "execution_count": null,
   "id": "89a3e64d",
   "metadata": {},
   "outputs": [],
   "source": [
    "configs = {\n",
    "    \"fdd_reporting_frequency_hrs\":24\n",
    "}"
   ]
  },
  {
   "cell_type": "code",
   "execution_count": null,
   "id": "dd22b5a6",
   "metadata": {},
   "outputs": [],
   "source": [
    "df.shape[0]"
   ]
  },
  {
   "cell_type": "code",
   "execution_count": null,
   "id": "c9d65d54",
   "metadata": {},
   "outputs": [],
   "source": [
    "count_day = 24/configs['fdd_reporting_frequency_hrs']\n",
    "count_day"
   ]
  },
  {
   "cell_type": "code",
   "execution_count": null,
   "id": "bee7f9c2",
   "metadata": {},
   "outputs": [],
   "source": [
    "count_year = int(365*count_day)\n",
    "count_year"
   ]
  },
  {
   "cell_type": "code",
   "execution_count": null,
   "id": "ca1b2a8d",
   "metadata": {},
   "outputs": [],
   "source": [
    "num_batchs = int(df.shape[0]/count_year)\n",
    "num_batchs"
   ]
  },
  {
   "cell_type": "code",
   "execution_count": null,
   "id": "0871e293",
   "metadata": {},
   "outputs": [],
   "source": [
    "pd.DataFrame(df.values.reshape((count_year,num_batchs)))"
   ]
  },
  {
   "cell_type": "code",
   "execution_count": null,
   "id": "dc0c85ff",
   "metadata": {},
   "outputs": [],
   "source": [
    "stream_data_file_name = \"stream_data_preformatted_hvac_setback_error_early_termination_3.0.csv\""
   ]
  },
  {
   "cell_type": "code",
   "execution_count": null,
   "id": "9d2958c3",
   "metadata": {},
   "outputs": [],
   "source": [
    "stream_data_file_name.split(\"_preformatted_\")[1].replace(\".csv\",\"\")"
   ]
  },
  {
   "cell_type": "code",
   "execution_count": null,
   "id": "ae99ce39",
   "metadata": {},
   "outputs": [],
   "source": [
    "datetime.utcfromtimestamp(time.time()).strftime('%Y-%m-%d %H:%M:%S')"
   ]
  },
  {
   "cell_type": "code",
   "execution_count": null,
   "id": "0a08119a",
   "metadata": {},
   "outputs": [],
   "source": [
    "str(pd.Timestamp.now())"
   ]
  },
  {
   "cell_type": "code",
   "execution_count": null,
   "id": "d7940a6b",
   "metadata": {},
   "outputs": [],
   "source": [
    "# fault name\n",
    "# excess elec\n",
    "# excess ng\n",
    "# duration ratio\n",
    "# cost\n",
    "\n",
    "df = pd.DataFrame()\n",
    "\n",
    "df['elec'] = [0,1,3,5,7,2,3]\n",
    "df['gas'] = [9,7,3,5,3,2,7]\n",
    "df['ratio'] = [0.05,0.3,0.15,0.1,0.1,0.18,0.12]\n",
    "df['cost'] = [1,2,3,4,5,6,7]\n",
    "df['fault'] = ['a','b','c','d','e','f','g']\n",
    "#df = df.set_index('fault')\n",
    "\n",
    "df"
   ]
  },
  {
   "cell_type": "code",
   "execution_count": null,
   "id": "1920a786",
   "metadata": {},
   "outputs": [],
   "source": [
    "fig = go.Figure()\n",
    "\n",
    "list_symbol = ['star', 'square', 'triangle-up','diamond', 'cross', 'x', 'triangle-down', 'pentagon', 'hexagon', 'octagon']\n",
    "\n",
    "fig.add_trace(go.Scatter(\n",
    "    x=df.elec,\n",
    "    y=df.gas,\n",
    "    mode='markers',\n",
    "    marker=dict(\n",
    "        symbol=list_symbol,\n",
    "        color=df.cost,\n",
    "        size=df.ratio,\n",
    "        sizemode='area',\n",
    "        sizeref=2.*max(df.ratio)/(40.**2),\n",
    "        sizemin=4,\n",
    "        showscale=True,\n",
    "    ),\n",
    "    name=fault,\n",
    "))\n",
    "\n",
    "\n",
    "fig.show()"
   ]
  },
  {
   "cell_type": "code",
   "execution_count": null,
   "id": "d0f13b76",
   "metadata": {},
   "outputs": [],
   "source": [
    "df"
   ]
  },
  {
   "cell_type": "code",
   "execution_count": null,
   "id": "fd461912",
   "metadata": {},
   "outputs": [],
   "source": [
    "fig = make_subplots(\n",
    "    rows=1, \n",
    "    cols=3, \n",
    "    shared_yaxes=True, \n",
    "    horizontal_spacing=0.1,\n",
    ")  \n",
    "\n",
    "fig.add_trace(go.Bar(\n",
    "    x=df.elec,\n",
    "    y=df.fault,\n",
    "    orientation='h',\n",
    "),row=1,col=1)\n",
    "\n",
    "fig.add_trace(go.Bar(\n",
    "    x=df.gas,\n",
    "    y=df.fault,\n",
    "    orientation='h',\n",
    "),row=1,col=2)\n",
    "\n",
    "fig.add_trace(go.Bar(\n",
    "    x=df.cost,\n",
    "    y=df.fault,\n",
    "    orientation='h',\n",
    "),row=1,col=3)\n",
    "\n",
    "fig.show()"
   ]
  },
  {
   "cell_type": "code",
   "execution_count": null,
   "id": "282a04d8",
   "metadata": {},
   "outputs": [],
   "source": []
  }
 ],
 "metadata": {
  "kernelspec": {
   "display_name": "Python 3",
   "language": "python",
   "name": "python3"
  },
  "language_info": {
   "codemirror_mode": {
    "name": "ipython",
    "version": 3
   },
   "file_extension": ".py",
   "mimetype": "text/x-python",
   "name": "python",
   "nbconvert_exporter": "python",
   "pygments_lexer": "ipython3",
   "version": "3.8.8"
  }
 },
 "nbformat": 4,
 "nbformat_minor": 5
}
