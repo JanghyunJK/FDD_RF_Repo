{
 "cells": [
  {
   "cell_type": "code",
   "execution_count": null,
   "metadata": {},
   "outputs": [],
   "source": [
    "import pandas as pd\n",
    "import glob\n",
    "import os\n",
    "import json\n",
    "import numpy as np\n",
    "import plotly.graph_objects as go\n",
    "from plotly.subplots import make_subplots\n",
    "from plotly.validators.scatter.marker import SymbolValidator"
   ]
  },
  {
   "cell_type": "markdown",
   "metadata": {},
   "source": [
    "# configuration setting"
   ]
  },
  {
   "cell_type": "code",
   "execution_count": null,
   "metadata": {},
   "outputs": [],
   "source": [
    "# setting directories\n",
    "dir_code = \"../run\"\n",
    "dir_data = dir_code + \"/data\"\n",
    "dir_result = dir_code + \"./results\"\n",
    "\n",
    "# setting configs json file path\n",
    "file_configs = dir_code + \"/configs.json\"\n",
    "\n",
    "# reading configs json file\n",
    "print(\"reading configuration json file from = {}\".format(file_configs))\n",
    "with open(file_configs, \"r\") as read_file:\n",
    "    configs = json.load(read_file)\n",
    "\n",
    "configs['dir_code'] = dir_code\n",
    "configs['dir_data'] = dir_data\n",
    "configs['dir_result'] = dir_result\n",
    "    \n",
    "configs"
   ]
  },
  {
   "cell_type": "code",
   "execution_count": null,
   "metadata": {},
   "outputs": [],
   "source": [
    "weather = configs[\"weather\"]\n",
    "num_timesteps_in_hr = int(60/configs[\"simulation_timestep_min\"])\n",
    "aggregate_n_runs = int(num_timesteps_in_hr*configs[\"fdd_reporting_frequency_hrs\"]) # number of datapoints corresponding to the time window interval for afdd reporting \n",
    "reporting_datapoints = int(365 * (num_timesteps_in_hr*24)/aggregate_n_runs) # number of datapoints for a year\n",
    "num_tree = configs[\"number_of_trees\"]\n",
    "reporting = configs[\"fdd_reporting_frequency_hrs\"]\n",
    "split_test = configs[\"split_test_size\"]"
   ]
  },
  {
   "cell_type": "code",
   "execution_count": null,
   "metadata": {},
   "outputs": [],
   "source": [
    "aggregate_n_runs"
   ]
  },
  {
   "cell_type": "code",
   "execution_count": null,
   "metadata": {},
   "outputs": [],
   "source": [
    "reporting_datapoints"
   ]
  },
  {
   "cell_type": "markdown",
   "metadata": {},
   "source": [
    "# reading metadata"
   ]
  },
  {
   "cell_type": "code",
   "execution_count": null,
   "metadata": {
    "scrolled": true
   },
   "outputs": [],
   "source": [
    "file1 = configs['dir_data'] + f\"/{weather}/{weather}_metadata.csv\"\n",
    "df_meta = pd.read_csv(file1)\n",
    "df_meta"
   ]
  },
  {
   "cell_type": "markdown",
   "metadata": {},
   "source": [
    "# reading splitted timestamp"
   ]
  },
  {
   "cell_type": "code",
   "execution_count": null,
   "metadata": {},
   "outputs": [],
   "source": [
    "df_timestamp = pd.read_csv(dir_data + f\"/testing_data/{weather}_ind.csv\", index_col=0)\n",
    "df_timestamp.columns = ['splitted_index']\n",
    "df_timestamp"
   ]
  },
  {
   "cell_type": "markdown",
   "metadata": {},
   "source": [
    "# reading results file"
   ]
  },
  {
   "cell_type": "code",
   "execution_count": null,
   "metadata": {},
   "outputs": [],
   "source": [
    "file2 = dir_result + f\"/{weather}.csv\"\n",
    "df_results = pd.read_csv(file2)\n",
    "\n",
    "new_columns = df_results.columns[0].split(\"output_test\")[1].split(\".csv\")[:-1]\n",
    "df_results = pd.DataFrame(df_results.values.reshape(int(len(df_results.values)/(reporting_datapoints*split_test)),int(reporting_datapoints*split_test))).T\n",
    "df_results.columns = new_columns\n",
    "df_results"
   ]
  },
  {
   "cell_type": "code",
   "execution_count": null,
   "metadata": {},
   "outputs": [],
   "source": [
    "df_diagnosis = []\n",
    "\n",
    "for bldgid in df_results.columns:\n",
    "    \n",
    "    temp = pd.DataFrame(df_results[bldgid].groupby(df_results[bldgid]).count())\n",
    "    temp.columns = ['counts']\n",
    "    temp = temp.sort_values(by='counts', ascending=False)\n",
    "    diagnose_fault = temp.iloc[0:1].index[0]\n",
    "    diagnose_pcnt = (temp.iloc[0:1].counts.values[0])/(temp.sum().values[0])\n",
    "    groundtruth = df_meta.loc[df_meta.sensor_filename==bldgid, :].fault_type.values[0]\n",
    "    \n",
    "    df_diagnosis.append([bldgid, groundtruth, diagnose_fault, diagnose_pcnt])\n",
    "    \n",
    "    #print(f\"Ground Truth = {groundtruth} || Diagnosis = {diagnose_fault}\")\n",
    "    \n",
    "df_diagnosis = pd.DataFrame(df_diagnosis)\n",
    "df_diagnosis.columns = ['id','GroundTruth','DiagnosedFault','ConfidenceRatio']\n",
    "df_diagnosis = df_diagnosis.sort_values(by='ConfidenceRatio',ascending=False)\n",
    "df_diagnosis"
   ]
  },
  {
   "cell_type": "code",
   "execution_count": null,
   "metadata": {},
   "outputs": [],
   "source": [
    "################################################################\n",
    "# CREATING EMPTY DATAFRAME\n",
    "################################################################\n",
    "datestart = '2019-01-01 00:00:00'\n",
    "dateend = '2019-12-31 23:00:00'\n",
    "df_combined = pd.DataFrame([])\n",
    "df_combined['reading_time'] = pd.date_range(datestart, dateend, freq='1D')\n",
    "df_combined = df_combined.set_index(['reading_time']).reset_index()\n",
    "df_combined"
   ]
  },
  {
   "cell_type": "code",
   "execution_count": null,
   "metadata": {},
   "outputs": [],
   "source": [
    "df_combined = df_combined.iloc[df_timestamp.splitted_index, :]\n",
    "df_combined"
   ]
  },
  {
   "cell_type": "code",
   "execution_count": null,
   "metadata": {},
   "outputs": [],
   "source": [
    "df_results.index = df_combined.reading_time\n",
    "df_results"
   ]
  },
  {
   "cell_type": "code",
   "execution_count": null,
   "metadata": {},
   "outputs": [],
   "source": [
    "i=0\n",
    "\n",
    "fig = go.Figure()\n",
    "\n",
    "for bldgid in df_results.columns:\n",
    "    \n",
    "    groundtruth = df_meta.loc[df_meta.sensor_filename==bldgid, :].fault_type.values[0]\n",
    "\n",
    "    fig.add_trace(go.Scatter(\n",
    "        x=df_results.index,\n",
    "        y=df_results[bldgid],\n",
    "        name=groundtruth,\n",
    "        mode='markers',\n",
    "        marker=dict(\n",
    "            size=10,\n",
    "            #symbol=str(i),\n",
    "        )\n",
    "    ))\n",
    "    \n",
    "    i+=1\n",
    "    \n",
    "fig.update_layout(\n",
    "    width=1200,\n",
    "    height=500,\n",
    "    margin=dict(\n",
    "        #l=70,\n",
    "        r=0,\n",
    "        t=0,\n",
    "        b=0\n",
    "    ),\n",
    "    plot_bgcolor='rgba(255,242,204,0.0)',    \n",
    "    xaxis=dict(\n",
    "        rangeselector=dict(\n",
    "            buttons=list([\n",
    "                dict(count=1,\n",
    "                     label=\"1d\",\n",
    "                     step=\"day\",\n",
    "                     stepmode=\"backward\"),\n",
    "                dict(count=1,\n",
    "                     label=\"1m\",\n",
    "                     step=\"month\",\n",
    "                     stepmode=\"backward\"),\n",
    "                dict(count=6,\n",
    "                     label=\"6m\",\n",
    "                     step=\"month\",\n",
    "                     stepmode=\"backward\"),\n",
    "                dict(count=1,\n",
    "                     label=\"YTD\",\n",
    "                     step=\"year\",\n",
    "                     stepmode=\"todate\"),\n",
    "                dict(count=1,\n",
    "                     label=\"1y\",\n",
    "                     step=\"year\",\n",
    "                     stepmode=\"backward\"),\n",
    "                dict(step=\"all\")\n",
    "            ])\n",
    "        ),\n",
    "        rangeslider=dict(\n",
    "            visible=True\n",
    "        ),\n",
    "        type=\"date\"\n",
    "    )\n",
    ")\n",
    "\n",
    "fig.update_xaxes(\n",
    "#     tickson='boundaries',\n",
    "#     showgrid=True,\n",
    "#     gridwidth=1, \n",
    "#     gridcolor='Black',\n",
    "    showline=True, \n",
    "    linewidth=2, \n",
    "    linecolor='black'\n",
    ")\n",
    "\n",
    "fig.update_yaxes(categoryorder='category ascending')\n",
    "\n",
    "\n",
    "if not os.path.exists(\"figures\"):\n",
    "    os.mkdir(\"figures\")\n",
    "\n",
    "fig.write_html(\"./figures/results_timeseries_{}_{}.html\".format(reporting, num_tree))\n",
    "\n",
    "fig.show()"
   ]
  },
  {
   "cell_type": "code",
   "execution_count": null,
   "metadata": {},
   "outputs": [],
   "source": []
  },
  {
   "cell_type": "code",
   "execution_count": null,
   "metadata": {},
   "outputs": [],
   "source": []
  },
  {
   "cell_type": "code",
   "execution_count": null,
   "metadata": {},
   "outputs": [],
   "source": []
  }
 ],
 "metadata": {
  "kernelspec": {
   "display_name": "Python 3",
   "language": "python",
   "name": "python3"
  },
  "language_info": {
   "codemirror_mode": {
    "name": "ipython",
    "version": 3
   },
   "file_extension": ".py",
   "mimetype": "text/x-python",
   "name": "python",
   "nbconvert_exporter": "python",
   "pygments_lexer": "ipython3",
   "version": "3.8.8"
  }
 },
 "nbformat": 4,
 "nbformat_minor": 4
}
