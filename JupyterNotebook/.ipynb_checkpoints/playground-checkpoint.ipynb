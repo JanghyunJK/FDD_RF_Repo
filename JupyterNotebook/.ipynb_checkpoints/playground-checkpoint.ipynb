{
 "cells": [
  {
   "cell_type": "code",
   "execution_count": null,
   "id": "51c6f076",
   "metadata": {},
   "outputs": [],
   "source": [
    "import pandas as pd\n",
    "import random\n",
    "import time\n",
    "from datetime import datetime"
   ]
  },
  {
   "cell_type": "code",
   "execution_count": null,
   "id": "5eb95f7a",
   "metadata": {},
   "outputs": [],
   "source": [
    "df = pd.DataFrame()"
   ]
  },
  {
   "cell_type": "code",
   "execution_count": null,
   "id": "0876671f",
   "metadata": {},
   "outputs": [],
   "source": [
    "list_temp = []\n",
    "for num in range(1,365*2+1):\n",
    "    entry = random.randrange(0, 100, 1)\n",
    "    list_temp.append(entry)\n",
    "    \n",
    "df = pd.DataFrame(list_temp)\n",
    "df.columns = ['reading']\n",
    "df"
   ]
  },
  {
   "cell_type": "code",
   "execution_count": null,
   "id": "89a3e64d",
   "metadata": {},
   "outputs": [],
   "source": [
    "configs = {\n",
    "    \"fdd_reporting_frequency_hrs\":24\n",
    "}"
   ]
  },
  {
   "cell_type": "code",
   "execution_count": null,
   "id": "dd22b5a6",
   "metadata": {},
   "outputs": [],
   "source": [
    "df.shape[0]"
   ]
  },
  {
   "cell_type": "code",
   "execution_count": null,
   "id": "c9d65d54",
   "metadata": {},
   "outputs": [],
   "source": [
    "count_day = 24/configs['fdd_reporting_frequency_hrs']\n",
    "count_day"
   ]
  },
  {
   "cell_type": "code",
   "execution_count": null,
   "id": "bee7f9c2",
   "metadata": {},
   "outputs": [],
   "source": [
    "count_year = int(365*count_day)\n",
    "count_year"
   ]
  },
  {
   "cell_type": "code",
   "execution_count": null,
   "id": "ca1b2a8d",
   "metadata": {},
   "outputs": [],
   "source": [
    "num_batchs = int(df.shape[0]/count_year)\n",
    "num_batchs"
   ]
  },
  {
   "cell_type": "code",
   "execution_count": null,
   "id": "0871e293",
   "metadata": {},
   "outputs": [],
   "source": [
    "pd.DataFrame(df.values.reshape((count_year,num_batchs)))"
   ]
  },
  {
   "cell_type": "code",
   "execution_count": null,
   "id": "dc0c85ff",
   "metadata": {},
   "outputs": [],
   "source": [
    "stream_data_file_name = \"stream_data_preformatted_hvac_setback_error_early_termination_3.0.csv\""
   ]
  },
  {
   "cell_type": "code",
   "execution_count": null,
   "id": "9d2958c3",
   "metadata": {},
   "outputs": [],
   "source": [
    "stream_data_file_name.split(\"_preformatted_\")[1].replace(\".csv\",\"\")"
   ]
  },
  {
   "cell_type": "code",
   "execution_count": null,
   "id": "ae99ce39",
   "metadata": {},
   "outputs": [],
   "source": [
    "datetime.utcfromtimestamp(time.time()).strftime('%Y-%m-%d %H:%M:%S')"
   ]
  },
  {
   "cell_type": "code",
   "execution_count": null,
   "id": "0a08119a",
   "metadata": {},
   "outputs": [],
   "source": [
    "str(pd.Timestamp.now())"
   ]
  },
  {
   "cell_type": "code",
   "execution_count": null,
   "id": "d7940a6b",
   "metadata": {},
   "outputs": [],
   "source": []
  }
 ],
 "metadata": {
  "kernelspec": {
   "display_name": "Python 3",
   "language": "python",
   "name": "python3"
  },
  "language_info": {
   "codemirror_mode": {
    "name": "ipython",
    "version": 3
   },
   "file_extension": ".py",
   "mimetype": "text/x-python",
   "name": "python",
   "nbconvert_exporter": "python",
   "pygments_lexer": "ipython3",
   "version": "3.8.8"
  }
 },
 "nbformat": 4,
 "nbformat_minor": 5
}
