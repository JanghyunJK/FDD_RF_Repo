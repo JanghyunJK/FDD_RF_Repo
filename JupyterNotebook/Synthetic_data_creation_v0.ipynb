{
 "cells": [
  {
   "cell_type": "code",
   "execution_count": null,
   "id": "f997e678",
   "metadata": {},
   "outputs": [],
   "source": [
    "import pandas as pd"
   ]
  },
  {
   "cell_type": "code",
   "execution_count": null,
   "id": "7b3e261e",
   "metadata": {},
   "outputs": [],
   "source": [
    "folder = \"../run/data/Norfolk\"\n",
    "dir_save = \"../run/data/stream_data\""
   ]
  },
  {
   "cell_type": "code",
   "execution_count": null,
   "id": "3f2a2593",
   "metadata": {},
   "outputs": [],
   "source": [
    "df_meta = pd.read_csv(folder + \"/Norfolk_metadata.csv\")\n",
    "df_meta"
   ]
  },
  {
   "cell_type": "code",
   "execution_count": null,
   "id": "f434ab20",
   "metadata": {},
   "outputs": [],
   "source": [
    "df_meta.sensor_filename.unique()"
   ]
  },
  {
   "cell_type": "code",
   "execution_count": null,
   "id": "55da8066",
   "metadata": {},
   "outputs": [],
   "source": [
    "json_scenario = {}"
   ]
  },
  {
   "cell_type": "code",
   "execution_count": null,
   "id": "aab0b777",
   "metadata": {},
   "outputs": [],
   "source": [
    "json_scenario['1'] = {\n",
    "    \"name\": \"baseline\",\n",
    "    \"date_start\": \"2006-01-01\",\n",
    "    \"date_end\": \"2006-05-31\"\n",
    "}\n",
    "\n",
    "json_scenario['2'] = {\n",
    "    \"name\": \"excessive_infiltration_0.4\",\n",
    "    \"date_start\": \"2006-06-01\",\n",
    "    \"date_end\": \"2006-06-30\"\n",
    "}\n",
    "\n",
    "json_scenario['3'] = {\n",
    "    \"name\": \"baseline\",\n",
    "    \"date_start\": \"2006-07-01\",\n",
    "    \"date_end\": \"2006-12-31\"\n",
    "}"
   ]
  },
  {
   "cell_type": "code",
   "execution_count": null,
   "id": "ffb48775",
   "metadata": {
    "scrolled": true
   },
   "outputs": [],
   "source": [
    "df_syn = pd.DataFrame([])\n",
    "\n",
    "print(\"############################\")\n",
    "for sce in json_scenario.keys():\n",
    "    print(f\"scenario number = {sce}\")\n",
    "    sce_name = json_scenario[sce][\"name\"]\n",
    "    print(f\"scenario name = {sce_name}\")\n",
    "    df_temp = pd.read_csv(folder + f\"/{sce_name}.csv\", index_col = 0)\n",
    "    \n",
    "    if sce_name != \"baseline\":\n",
    "        sce_name = sce_name.rsplit(\"_\",1)[0]\n",
    "        print(f\"parsed scenario name = {sce_name}\")\n",
    "    \n",
    "    df_temp[\"label\"] = sce_name\n",
    "    print(f\"data shape = {df_temp.shape}\")\n",
    "    df_temp.index = pd.to_datetime(df_temp.index)\n",
    "    date_start = json_scenario[sce]['date_start']\n",
    "    date_end = json_scenario[sce]['date_end']\n",
    "    df_temp = df_temp[date_start:date_end]\n",
    "    \n",
    "    df_syn = pd.concat([df_syn, df_temp.reset_index()], ignore_index=True)\n",
    "    \n",
    "    print(\"############################\")\n",
    "    \n",
    "df_syn = df_syn.set_index(\"OS_time\")\n",
    "df_syn.to_csv(dir_save + \"/stream_data_preformatted.csv\")\n",
    "df_syn"
   ]
  },
  {
   "cell_type": "code",
   "execution_count": null,
   "id": "3321430d",
   "metadata": {},
   "outputs": [],
   "source": [
    "def get_timeinterval(os_timestamp):\n",
    "    \n",
    "        #converting timestamp to pandas datetime\n",
    "        timestamp = pd.to_datetime(os_timestamp)\n",
    "        # inferring timestep (frequency) from the dataframe\n",
    "        dt = timestamp.diff().value_counts().idxmax() # in pandas timedelta\n",
    "        dt = int(dt.value/(10**9)/60) # in minutes\n",
    "        print(\"[Training/Testing Data Processing] timestep ({} min) inferred from the dataframe\".format(dt))\n",
    "        return dt"
   ]
  },
  {
   "cell_type": "code",
   "execution_count": null,
   "id": "1b8def81",
   "metadata": {},
   "outputs": [],
   "source": [
    "temp_stream_FDD_data_test = pd.read_csv(\"C:/Users/jkim4/Documents/GitHub/FDD_RF_Repo/run/data/stream_data/stream_data_preformatted.csv\")\n",
    "timestep = get_timeinterval(temp_stream_FDD_data_test.iloc[:,0]) # in minutes\n",
    "aggregate_n_runs = int(60/timestep*24)\n",
    "df_label = temp_stream_FDD_data_test.set_index(\"OS_time\").iloc[:,-1:]\n",
    "df_label.index = pd.to_datetime(df_label.index)\n",
    "resample_frequency = str(24) + \"H\"\n",
    "df_label = df_label.resample(resample_frequency).bfill()\n",
    "temp_stream_FDD_data_test = temp_stream_FDD_data_test.copy().iloc[:,0:-1]\n",
    "temp_stream_FDD_data_test = temp_stream_FDD_data_test.groupby(temp_stream_FDD_data_test.index // (aggregate_n_runs)).mean().iloc[:,0:-8]\n",
    "temp_stream_FDD_data_test['label'] = df_label.values\n",
    "#temp_stream_FDD_data_test.to_csv(self.configs['dir_data_stream'] + f'\\\\{stream_data_file_name.replace(\"_preformatted\",\"_formatted\")}')\n",
    "#fault_inputs_output_test = pd.concat([fault_inputs_output_test, temp_stream_FDD_data_test], axis = 0)"
   ]
  },
  {
   "cell_type": "code",
   "execution_count": null,
   "id": "fe1a1aea",
   "metadata": {},
   "outputs": [],
   "source": [
    "temp_stream_FDD_data_test"
   ]
  },
  {
   "cell_type": "code",
   "execution_count": null,
   "id": "d819dbcd",
   "metadata": {},
   "outputs": [],
   "source": [
    "for col in temp_stream_FDD_data_test.columns:\n",
    "    print(col)"
   ]
  },
  {
   "cell_type": "code",
   "execution_count": null,
   "id": "faf447c2",
   "metadata": {},
   "outputs": [],
   "source": []
  }
 ],
 "metadata": {
  "kernelspec": {
   "display_name": "Python 3",
   "language": "python",
   "name": "python3"
  },
  "language_info": {
   "codemirror_mode": {
    "name": "ipython",
    "version": 3
   },
   "file_extension": ".py",
   "mimetype": "text/x-python",
   "name": "python",
   "nbconvert_exporter": "python",
   "pygments_lexer": "ipython3",
   "version": "3.8.8"
  }
 },
 "nbformat": 4,
 "nbformat_minor": 5
}
