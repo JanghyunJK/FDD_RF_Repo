{
 "cells": [
  {
   "cell_type": "code",
   "execution_count": null,
   "id": "f997e678",
   "metadata": {},
   "outputs": [],
   "source": [
    "import pandas as pd"
   ]
  },
  {
   "cell_type": "code",
   "execution_count": null,
   "id": "7b3e261e",
   "metadata": {},
   "outputs": [],
   "source": [
    "folder = \"../run/data/Norfolk\"\n",
    "dir_save = \"../run/data/stream_data\""
   ]
  },
  {
   "cell_type": "code",
   "execution_count": null,
   "id": "3f2a2593",
   "metadata": {},
   "outputs": [],
   "source": [
    "df_meta = pd.read_csv(folder + \"/Norfolk_metadata.csv\")\n",
    "df_meta"
   ]
  },
  {
   "cell_type": "code",
   "execution_count": null,
   "id": "f434ab20",
   "metadata": {},
   "outputs": [],
   "source": [
    "df_meta.sensor_filename.unique()"
   ]
  },
  {
   "cell_type": "code",
   "execution_count": null,
   "id": "55da8066",
   "metadata": {},
   "outputs": [],
   "source": [
    "json_scenario = {}"
   ]
  },
  {
   "cell_type": "code",
   "execution_count": null,
   "id": "aab0b777",
   "metadata": {},
   "outputs": [],
   "source": [
    "json_scenario['1'] = {\n",
    "    \"name\": \"baseline\",\n",
    "    \"date_start\": \"2006-01-01\",\n",
    "    \"date_end\": \"2006-05-31\",\n",
    "    \"filename\":False,\n",
    "}\n",
    "\n",
    "json_scenario['2'] = {\n",
    "    \"name\": \"improperly_sized_equipment_wshp_1.5\",\n",
    "    \"date_start\": \"2006-06-01\",\n",
    "    \"date_end\": \"2006-06-30\",\n",
    "    \"filename\":True,\n",
    "}\n",
    "\n",
    "json_scenario['3'] = {\n",
    "    \"name\": \"baseline\",\n",
    "    \"date_start\": \"2006-07-01\",\n",
    "    \"date_end\": \"2006-12-31\",\n",
    "    \"filename\":False,\n",
    "}"
   ]
  },
  {
   "cell_type": "code",
   "execution_count": null,
   "id": "ffb48775",
   "metadata": {
    "scrolled": true
   },
   "outputs": [],
   "source": [
    "df_syn = pd.DataFrame([])\n",
    "filename_suffix = ''\n",
    "\n",
    "print(\"############################\")\n",
    "for sce in json_scenario.keys():\n",
    "    if json_scenario[sce]['filename'] == True:\n",
    "        filename_suffix = json_scenario[sce]['name']\n",
    "    print(f\"scenario number = {sce}\")\n",
    "    sce_name = json_scenario[sce][\"name\"]\n",
    "    print(f\"scenario name = {sce_name}\")\n",
    "    df_temp = pd.read_csv(folder + f\"/{sce_name}.csv\", index_col = 0)\n",
    "    \n",
    "    if sce_name != \"baseline\":\n",
    "        sce_name = sce_name.rsplit(\"_\",1)[0]\n",
    "        print(f\"parsed scenario name = {sce_name}\")\n",
    "    \n",
    "    df_temp[\"label\"] = sce_name\n",
    "    print(f\"data shape = {df_temp.shape}\")\n",
    "    df_temp.index = pd.to_datetime(df_temp.index)\n",
    "    date_start = json_scenario[sce]['date_start']\n",
    "    date_end = json_scenario[sce]['date_end']\n",
    "    df_temp = df_temp[date_start:date_end]\n",
    "    \n",
    "    df_syn = pd.concat([df_syn, df_temp.reset_index()], ignore_index=True)\n",
    "    \n",
    "    print(\"############################\")\n",
    "    \n",
    "df_syn = df_syn.set_index(\"OS_time\")\n",
    "df_syn.to_csv(dir_save + \"/stream_data_preformatted_{}.csv\".format(filename_suffix))\n",
    "df_syn"
   ]
  },
  {
   "cell_type": "code",
   "execution_count": null,
   "id": "faf447c2",
   "metadata": {},
   "outputs": [],
   "source": []
  }
 ],
 "metadata": {
  "kernelspec": {
   "display_name": "Python 3",
   "language": "python",
   "name": "python3"
  },
  "language_info": {
   "codemirror_mode": {
    "name": "ipython",
    "version": 3
   },
   "file_extension": ".py",
   "mimetype": "text/x-python",
   "name": "python",
   "nbconvert_exporter": "python",
   "pygments_lexer": "ipython3",
   "version": "3.8.8"
  }
 },
 "nbformat": 4,
 "nbformat_minor": 5
}
